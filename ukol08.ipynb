{
 "cells": [
  {
   "cell_type": "markdown",
   "metadata": {},
   "source": [
    "Úkol 08\n",
    "Zadání\n",
    "Úkol můžeš odevzdat buďto jako Jupyter Notebook .ipynb, nebo jako klasický program .py.\n",
    "\n",
    "Stáhni si dataset, který obsahuje seznam zvířat k adopci v ZOO Praha. Zdroj dat je Národní katalog otevřených dat.\n",
    "\n",
    "1. Data si načti pomocí metody pandas.read_csv(). Pozor, nastav oddělovač na znak středníku. Využij parametr sep.\n",
    "\n",
    "2. Seznam se s daty. Kolik má tabulka řádek a sloupců? Jak se sloupce jmenují?\n",
    "\n",
    "3. Které zvíře se nachází na záznamu s indexem 34? Vypiš název tohoto zvířete v češtině a v angličtině."
   ]
  },
  {
   "cell_type": "code",
   "execution_count": 4,
   "metadata": {},
   "outputs": [],
   "source": [
    "import pandas as pd"
   ]
  },
  {
   "cell_type": "markdown",
   "metadata": {},
   "source": [
    "1. Načtení dat"
   ]
  },
  {
   "cell_type": "code",
   "execution_count": 5,
   "metadata": {},
   "outputs": [
    {
     "data": {
      "text/html": [
       "<div>\n",
       "<style scoped>\n",
       "    .dataframe tbody tr th:only-of-type {\n",
       "        vertical-align: middle;\n",
       "    }\n",
       "\n",
       "    .dataframe tbody tr th {\n",
       "        vertical-align: top;\n",
       "    }\n",
       "\n",
       "    .dataframe thead th {\n",
       "        text-align: right;\n",
       "    }\n",
       "</style>\n",
       "<table border=\"1\" class=\"dataframe\">\n",
       "  <thead>\n",
       "    <tr style=\"text-align: right;\">\n",
       "      <th></th>\n",
       "      <th>id</th>\n",
       "      <th>nazev_cz</th>\n",
       "      <th>nazev_en</th>\n",
       "      <th>trida_cz</th>\n",
       "      <th>cena</th>\n",
       "      <th>k_prohlidce</th>\n",
       "    </tr>\n",
       "  </thead>\n",
       "  <tbody>\n",
       "    <tr>\n",
       "      <th>0</th>\n",
       "      <td>7</td>\n",
       "      <td>Šváb syčivý</td>\n",
       "      <td>Madagascar giant cockroach</td>\n",
       "      <td>Bezobratlí</td>\n",
       "      <td>1000</td>\n",
       "      <td>1</td>\n",
       "    </tr>\n",
       "    <tr>\n",
       "      <th>1</th>\n",
       "      <td>8</td>\n",
       "      <td>Pakobylka okřídlená</td>\n",
       "      <td>Pink-winged stick insect</td>\n",
       "      <td>Bezobratlí</td>\n",
       "      <td>1000</td>\n",
       "      <td>1</td>\n",
       "    </tr>\n",
       "    <tr>\n",
       "      <th>2</th>\n",
       "      <td>16</td>\n",
       "      <td>Tayra</td>\n",
       "      <td>Tayra</td>\n",
       "      <td>Savci</td>\n",
       "      <td>5000</td>\n",
       "      <td>1</td>\n",
       "    </tr>\n",
       "    <tr>\n",
       "      <th>3</th>\n",
       "      <td>35</td>\n",
       "      <td>Kajmanka supí</td>\n",
       "      <td>Alligator snapping turtle</td>\n",
       "      <td>Plazi</td>\n",
       "      <td>2000</td>\n",
       "      <td>1</td>\n",
       "    </tr>\n",
       "    <tr>\n",
       "      <th>4</th>\n",
       "      <td>37</td>\n",
       "      <td>Želva žlutočelá</td>\n",
       "      <td>Indochinese box turtle</td>\n",
       "      <td>Plazi</td>\n",
       "      <td>1000</td>\n",
       "      <td>1</td>\n",
       "    </tr>\n",
       "    <tr>\n",
       "      <th>...</th>\n",
       "      <td>...</td>\n",
       "      <td>...</td>\n",
       "      <td>...</td>\n",
       "      <td>...</td>\n",
       "      <td>...</td>\n",
       "      <td>...</td>\n",
       "    </tr>\n",
       "    <tr>\n",
       "      <th>508</th>\n",
       "      <td>1417</td>\n",
       "      <td>Rosnice šalamounská</td>\n",
       "      <td></td>\n",
       "      <td>Obojživelníci</td>\n",
       "      <td>1000</td>\n",
       "      <td>1</td>\n",
       "    </tr>\n",
       "    <tr>\n",
       "      <th>509</th>\n",
       "      <td>1418</td>\n",
       "      <td>Létavka obecná</td>\n",
       "      <td></td>\n",
       "      <td>Obojživelníci</td>\n",
       "      <td>1000</td>\n",
       "      <td>1</td>\n",
       "    </tr>\n",
       "    <tr>\n",
       "      <th>510</th>\n",
       "      <td>1419</td>\n",
       "      <td>Bažant paví</td>\n",
       "      <td></td>\n",
       "      <td>Ptáci</td>\n",
       "      <td>1000</td>\n",
       "      <td>1</td>\n",
       "    </tr>\n",
       "    <tr>\n",
       "      <th>511</th>\n",
       "      <td>1420</td>\n",
       "      <td>Sojkovec rezavouchý</td>\n",
       "      <td></td>\n",
       "      <td>Ptáci</td>\n",
       "      <td>1000</td>\n",
       "      <td>1</td>\n",
       "    </tr>\n",
       "    <tr>\n",
       "      <th>512</th>\n",
       "      <td>1421</td>\n",
       "      <td>Kachnice kaštanová</td>\n",
       "      <td></td>\n",
       "      <td>Ptáci</td>\n",
       "      <td>1000</td>\n",
       "      <td>1</td>\n",
       "    </tr>\n",
       "  </tbody>\n",
       "</table>\n",
       "<p>513 rows × 6 columns</p>\n",
       "</div>"
      ],
      "text/plain": [
       "       id             nazev_cz                     nazev_en       trida_cz  \\\n",
       "0       7          Šváb syčivý  Madagascar giant cockroach      Bezobratlí   \n",
       "1       8  Pakobylka okřídlená     Pink-winged stick insect     Bezobratlí   \n",
       "2      16                Tayra                        Tayra          Savci   \n",
       "3      35        Kajmanka supí    Alligator snapping turtle          Plazi   \n",
       "4      37      Želva žlutočelá       Indochinese box turtle          Plazi   \n",
       "..    ...                  ...                          ...            ...   \n",
       "508  1417  Rosnice šalamounská                               Obojživelníci   \n",
       "509  1418       Létavka obecná                               Obojživelníci   \n",
       "510  1419          Bažant paví                                       Ptáci   \n",
       "511  1420  Sojkovec rezavouchý                                       Ptáci   \n",
       "512  1421   Kachnice kaštanová                                       Ptáci   \n",
       "\n",
       "     cena  k_prohlidce  \n",
       "0    1000            1  \n",
       "1    1000            1  \n",
       "2    5000            1  \n",
       "3    2000            1  \n",
       "4    1000            1  \n",
       "..    ...          ...  \n",
       "508  1000            1  \n",
       "509  1000            1  \n",
       "510  1000            1  \n",
       "511  1000            1  \n",
       "512  1000            1  \n",
       "\n",
       "[513 rows x 6 columns]"
      ]
     },
     "execution_count": 5,
     "metadata": {},
     "output_type": "execute_result"
    }
   ],
   "source": [
    "seznam_zvirat_zoo_praha = pd.read_csv(\"adopce-zvirat.txt\", sep=\";\")\n",
    "seznam_zvirat_zoo_praha"
   ]
  },
  {
   "cell_type": "markdown",
   "metadata": {},
   "source": [
    "2. Základní informace o tabulce"
   ]
  },
  {
   "cell_type": "code",
   "execution_count": 6,
   "metadata": {},
   "outputs": [
    {
     "name": "stdout",
     "output_type": "stream",
     "text": [
      "<class 'pandas.core.frame.DataFrame'>\n",
      "RangeIndex: 513 entries, 0 to 512\n",
      "Data columns (total 6 columns):\n",
      " #   Column       Non-Null Count  Dtype \n",
      "---  ------       --------------  ----- \n",
      " 0   id           513 non-null    int64 \n",
      " 1   nazev_cz     513 non-null    object\n",
      " 2   nazev_en     513 non-null    object\n",
      " 3   trida_cz     513 non-null    object\n",
      " 4   cena         513 non-null    int64 \n",
      " 5   k_prohlidce  513 non-null    int64 \n",
      "dtypes: int64(3), object(3)\n",
      "memory usage: 24.2+ KB\n"
     ]
    }
   ],
   "source": [
    "seznam_zvirat_zoo_praha.info()"
   ]
  },
  {
   "cell_type": "markdown",
   "metadata": {},
   "source": [
    "2. názvy sloupců"
   ]
  },
  {
   "cell_type": "code",
   "execution_count": 9,
   "metadata": {},
   "outputs": [
    {
     "data": {
      "text/plain": [
       "Index(['id', 'nazev_cz', 'nazev_en', 'trida_cz', 'cena', 'k_prohlidce'], dtype='object')"
      ]
     },
     "execution_count": 9,
     "metadata": {},
     "output_type": "execute_result"
    }
   ],
   "source": [
    "seznam_zvirat_zoo_praha.columns"
   ]
  },
  {
   "cell_type": "markdown",
   "metadata": {},
   "source": [
    "2. Počet řádků a sloupců"
   ]
  },
  {
   "cell_type": "code",
   "execution_count": 7,
   "metadata": {},
   "outputs": [
    {
     "data": {
      "text/plain": [
       "(513, 6)"
      ]
     },
     "execution_count": 7,
     "metadata": {},
     "output_type": "execute_result"
    }
   ],
   "source": [
    "seznam_zvirat_zoo_praha.shape"
   ]
  },
  {
   "cell_type": "markdown",
   "metadata": {},
   "source": [
    "3. Které zvíře se nachází na záznamu s indexem 34?"
   ]
  },
  {
   "cell_type": "code",
   "execution_count": 8,
   "metadata": {},
   "outputs": [
    {
     "data": {
      "text/plain": [
       "id                     99\n",
       "nazev_cz        Ibis bílý\n",
       "nazev_en       White ibis\n",
       "trida_cz            Ptáci\n",
       "cena                 3000\n",
       "k_prohlidce             1\n",
       "Name: 34, dtype: object"
      ]
     },
     "execution_count": 8,
     "metadata": {},
     "output_type": "execute_result"
    }
   ],
   "source": [
    "seznam_zvirat_zoo_praha.iloc[34]"
   ]
  },
  {
   "cell_type": "markdown",
   "metadata": {},
   "source": [
    "3. Vypiš název tohoto zvířete v češtině a v angličtině."
   ]
  },
  {
   "cell_type": "code",
   "execution_count": 10,
   "metadata": {},
   "outputs": [
    {
     "data": {
      "text/html": [
       "<div>\n",
       "<style scoped>\n",
       "    .dataframe tbody tr th:only-of-type {\n",
       "        vertical-align: middle;\n",
       "    }\n",
       "\n",
       "    .dataframe tbody tr th {\n",
       "        vertical-align: top;\n",
       "    }\n",
       "\n",
       "    .dataframe thead th {\n",
       "        text-align: right;\n",
       "    }\n",
       "</style>\n",
       "<table border=\"1\" class=\"dataframe\">\n",
       "  <thead>\n",
       "    <tr style=\"text-align: right;\">\n",
       "      <th></th>\n",
       "      <th>nazev_cz</th>\n",
       "      <th>nazev_en</th>\n",
       "    </tr>\n",
       "  </thead>\n",
       "  <tbody>\n",
       "    <tr>\n",
       "      <th>34</th>\n",
       "      <td>Ibis bílý</td>\n",
       "      <td>White ibis</td>\n",
       "    </tr>\n",
       "  </tbody>\n",
       "</table>\n",
       "</div>"
      ],
      "text/plain": [
       "     nazev_cz    nazev_en\n",
       "34  Ibis bílý  White ibis"
      ]
     },
     "execution_count": 10,
     "metadata": {},
     "output_type": "execute_result"
    }
   ],
   "source": [
    "seznam_zvirat_zoo_praha[[\"nazev_cz\", \"nazev_en\"]].iloc[[34]]"
   ]
  },
  {
   "cell_type": "markdown",
   "metadata": {},
   "source": [
    "Nepovinný bonus\n",
    "Využij metody sort_values() (a libovolných dalších metod), ke zjištění následujících informací:\n",
    "\n",
    "1. Adopce kterých zvířat je nejdražší? \n",
    "2. Které zvíře je alfabeticky poslední v češtině? Které v angličtině?\n",
    "3. Bonus můžeš doplnit o nějaké vlastní pozorování."
   ]
  },
  {
   "cell_type": "markdown",
   "metadata": {},
   "source": [
    "1. Adopce kterých zvířat je nejdražší? Vypsáno 15 nejdražších zvířat."
   ]
  },
  {
   "cell_type": "code",
   "execution_count": 13,
   "metadata": {},
   "outputs": [
    {
     "data": {
      "text/html": [
       "<div>\n",
       "<style scoped>\n",
       "    .dataframe tbody tr th:only-of-type {\n",
       "        vertical-align: middle;\n",
       "    }\n",
       "\n",
       "    .dataframe tbody tr th {\n",
       "        vertical-align: top;\n",
       "    }\n",
       "\n",
       "    .dataframe thead th {\n",
       "        text-align: right;\n",
       "    }\n",
       "</style>\n",
       "<table border=\"1\" class=\"dataframe\">\n",
       "  <thead>\n",
       "    <tr style=\"text-align: right;\">\n",
       "      <th></th>\n",
       "      <th>id</th>\n",
       "      <th>nazev_cz</th>\n",
       "      <th>nazev_en</th>\n",
       "      <th>trida_cz</th>\n",
       "      <th>cena</th>\n",
       "      <th>k_prohlidce</th>\n",
       "    </tr>\n",
       "  </thead>\n",
       "  <tbody>\n",
       "    <tr>\n",
       "      <th>114</th>\n",
       "      <td>335</td>\n",
       "      <td>Tygr sumaterský</td>\n",
       "      <td>Sumatran tiger</td>\n",
       "      <td>Savci</td>\n",
       "      <td>50000</td>\n",
       "      <td>1</td>\n",
       "    </tr>\n",
       "    <tr>\n",
       "      <th>113</th>\n",
       "      <td>334</td>\n",
       "      <td>Tygr ussurijský</td>\n",
       "      <td>Siberian tiger</td>\n",
       "      <td>Savci</td>\n",
       "      <td>50000</td>\n",
       "      <td>1</td>\n",
       "    </tr>\n",
       "    <tr>\n",
       "      <th>272</th>\n",
       "      <td>897</td>\n",
       "      <td>Tygr malajský</td>\n",
       "      <td>Malayan tiger</td>\n",
       "      <td>Savci</td>\n",
       "      <td>50000</td>\n",
       "      <td>1</td>\n",
       "    </tr>\n",
       "    <tr>\n",
       "      <th>129</th>\n",
       "      <td>385</td>\n",
       "      <td>Hroch obojživelný</td>\n",
       "      <td>Hippopotamus</td>\n",
       "      <td>Savci</td>\n",
       "      <td>50000</td>\n",
       "      <td>1</td>\n",
       "    </tr>\n",
       "    <tr>\n",
       "      <th>128</th>\n",
       "      <td>381</td>\n",
       "      <td>Slon indický</td>\n",
       "      <td>Asian elephant</td>\n",
       "      <td>Savci</td>\n",
       "      <td>50000</td>\n",
       "      <td>1</td>\n",
       "    </tr>\n",
       "    <tr>\n",
       "      <th>135</th>\n",
       "      <td>396</td>\n",
       "      <td>Žirafa severní núbijská (= Rothschildova)</td>\n",
       "      <td>Rothschild's giraffe</td>\n",
       "      <td>Savci</td>\n",
       "      <td>50000</td>\n",
       "      <td>1</td>\n",
       "    </tr>\n",
       "    <tr>\n",
       "      <th>330</th>\n",
       "      <td>1101</td>\n",
       "      <td>Gaviál indický</td>\n",
       "      <td>Indian gharial</td>\n",
       "      <td>Plazi</td>\n",
       "      <td>30000</td>\n",
       "      <td>1</td>\n",
       "    </tr>\n",
       "    <tr>\n",
       "      <th>101</th>\n",
       "      <td>297</td>\n",
       "      <td>Orangutan sumaterský</td>\n",
       "      <td>Sumatran orang-utan</td>\n",
       "      <td>Savci</td>\n",
       "      <td>30000</td>\n",
       "      <td>1</td>\n",
       "    </tr>\n",
       "    <tr>\n",
       "      <th>115</th>\n",
       "      <td>336</td>\n",
       "      <td>Lev indický</td>\n",
       "      <td>Asiatic lion</td>\n",
       "      <td>Savci</td>\n",
       "      <td>30000</td>\n",
       "      <td>1</td>\n",
       "    </tr>\n",
       "    <tr>\n",
       "      <th>102</th>\n",
       "      <td>298</td>\n",
       "      <td>Gorila nížinná</td>\n",
       "      <td>Western lowland gorilla</td>\n",
       "      <td>Savci</td>\n",
       "      <td>30000</td>\n",
       "      <td>1</td>\n",
       "    </tr>\n",
       "    <tr>\n",
       "      <th>244</th>\n",
       "      <td>776</td>\n",
       "      <td>Varan komodský</td>\n",
       "      <td>Komodo dragon</td>\n",
       "      <td>Plazi</td>\n",
       "      <td>30000</td>\n",
       "      <td>1</td>\n",
       "    </tr>\n",
       "    <tr>\n",
       "      <th>105</th>\n",
       "      <td>310</td>\n",
       "      <td>Medvěd lední</td>\n",
       "      <td>Polar bear</td>\n",
       "      <td>Savci</td>\n",
       "      <td>30000</td>\n",
       "      <td>1</td>\n",
       "    </tr>\n",
       "    <tr>\n",
       "      <th>116</th>\n",
       "      <td>337</td>\n",
       "      <td>Gepard</td>\n",
       "      <td>Cheetah</td>\n",
       "      <td>Savci</td>\n",
       "      <td>20000</td>\n",
       "      <td>1</td>\n",
       "    </tr>\n",
       "    <tr>\n",
       "      <th>112</th>\n",
       "      <td>331</td>\n",
       "      <td>Levhart mandžuský</td>\n",
       "      <td>Amur leopard</td>\n",
       "      <td>Savci</td>\n",
       "      <td>20000</td>\n",
       "      <td>1</td>\n",
       "    </tr>\n",
       "    <tr>\n",
       "      <th>449</th>\n",
       "      <td>1335</td>\n",
       "      <td>Velemlok čínský</td>\n",
       "      <td>Chineese giant salamander</td>\n",
       "      <td>Obojživelníci</td>\n",
       "      <td>20000</td>\n",
       "      <td>1</td>\n",
       "    </tr>\n",
       "  </tbody>\n",
       "</table>\n",
       "</div>"
      ],
      "text/plain": [
       "       id                                   nazev_cz  \\\n",
       "114   335                            Tygr sumaterský   \n",
       "113   334                            Tygr ussurijský   \n",
       "272   897                              Tygr malajský   \n",
       "129   385                          Hroch obojživelný   \n",
       "128   381                               Slon indický   \n",
       "135   396  Žirafa severní núbijská (= Rothschildova)   \n",
       "330  1101                             Gaviál indický   \n",
       "101   297                       Orangutan sumaterský   \n",
       "115   336                                Lev indický   \n",
       "102   298                             Gorila nížinná   \n",
       "244   776                             Varan komodský   \n",
       "105   310                               Medvěd lední   \n",
       "116   337                                     Gepard   \n",
       "112   331                          Levhart mandžuský   \n",
       "449  1335                            Velemlok čínský   \n",
       "\n",
       "                      nazev_en       trida_cz   cena  k_prohlidce  \n",
       "114             Sumatran tiger          Savci  50000            1  \n",
       "113             Siberian tiger          Savci  50000            1  \n",
       "272              Malayan tiger          Savci  50000            1  \n",
       "129               Hippopotamus          Savci  50000            1  \n",
       "128             Asian elephant          Savci  50000            1  \n",
       "135     Rothschild's giraffe            Savci  50000            1  \n",
       "330             Indian gharial          Plazi  30000            1  \n",
       "101        Sumatran orang-utan          Savci  30000            1  \n",
       "115               Asiatic lion          Savci  30000            1  \n",
       "102    Western lowland gorilla          Savci  30000            1  \n",
       "244              Komodo dragon          Plazi  30000            1  \n",
       "105                 Polar bear          Savci  30000            1  \n",
       "116                    Cheetah          Savci  20000            1  \n",
       "112               Amur leopard          Savci  20000            1  \n",
       "449  Chineese giant salamander  Obojživelníci  20000            1  "
      ]
     },
     "execution_count": 13,
     "metadata": {},
     "output_type": "execute_result"
    }
   ],
   "source": [
    "nejdrazsi_zvirata = seznam_zvirat_zoo_praha.sort_values(by= \"cena\", ascending=False).head(15)\n",
    "nejdrazsi_zvirata"
   ]
  },
  {
   "cell_type": "markdown",
   "metadata": {},
   "source": [
    "2. Které zvíře je alfabeticky poslední v češtině?"
   ]
  },
  {
   "cell_type": "code",
   "execution_count": 14,
   "metadata": {},
   "outputs": [
    {
     "data": {
      "text/plain": [
       "'Žluva hajní'"
      ]
     },
     "execution_count": 14,
     "metadata": {},
     "output_type": "execute_result"
    }
   ],
   "source": [
    "posledni_ceske = seznam_zvirat_zoo_praha[\"nazev_cz\"].max()\n",
    "posledni_ceske"
   ]
  },
  {
   "cell_type": "markdown",
   "metadata": {},
   "source": [
    "2. Které zvíře je alfabeticky poslední v angličtině?"
   ]
  },
  {
   "cell_type": "code",
   "execution_count": 15,
   "metadata": {},
   "outputs": [
    {
     "data": {
      "text/plain": [
       "'Yellow-necked francolin'"
      ]
     },
     "execution_count": 15,
     "metadata": {},
     "output_type": "execute_result"
    }
   ],
   "source": [
    "posledni_anglicke = seznam_zvirat_zoo_praha[\"nazev_en\"].max()\n",
    "posledni_anglicke"
   ]
  },
  {
   "cell_type": "markdown",
   "metadata": {},
   "source": [
    "3. Bonus můžeš doplnit o nějaké vlastní pozorování.\n",
    "\n",
    "    a. vypiš zvířecí druh s nejdelším názvem v češtině\n",
    "    \n",
    "    b. vypiš zvířecí druh s nejdelším názvem v angličtině\n",
    "    \n",
    "    c. vypiš 3 zvířata s nejnižšími náklady"
   ]
  },
  {
   "cell_type": "markdown",
   "metadata": {},
   "source": [
    "a."
   ]
  },
  {
   "cell_type": "code",
   "execution_count": 18,
   "metadata": {},
   "outputs": [
    {
     "name": "stdout",
     "output_type": "stream",
     "text": [
      "Žirafa severní núbijská (= Rothschildova)\n"
     ]
    }
   ],
   "source": [
    "nejdelsi_jmeno = seznam_zvirat_zoo_praha[\"nazev_cz\"].apply(len).idxmax()\n",
    "print(seznam_zvirat_zoo_praha.at[nejdelsi_jmeno, \"nazev_cz\"])"
   ]
  },
  {
   "cell_type": "markdown",
   "metadata": {},
   "source": [
    "b."
   ]
  },
  {
   "cell_type": "code",
   "execution_count": 19,
   "metadata": {},
   "outputs": [
    {
     "name": "stdout",
     "output_type": "stream",
     "text": [
      "Australian red-bellied short-necked turtle\n"
     ]
    }
   ],
   "source": [
    "nejdelsi_jmeno = seznam_zvirat_zoo_praha[\"nazev_en\"].apply(len).idxmax()\n",
    "print(seznam_zvirat_zoo_praha.at[nejdelsi_jmeno, \"nazev_en\"])"
   ]
  },
  {
   "cell_type": "markdown",
   "metadata": {},
   "source": [
    "c."
   ]
  },
  {
   "cell_type": "code",
   "execution_count": 22,
   "metadata": {},
   "outputs": [
    {
     "data": {
      "text/html": [
       "<div>\n",
       "<style scoped>\n",
       "    .dataframe tbody tr th:only-of-type {\n",
       "        vertical-align: middle;\n",
       "    }\n",
       "\n",
       "    .dataframe tbody tr th {\n",
       "        vertical-align: top;\n",
       "    }\n",
       "\n",
       "    .dataframe thead th {\n",
       "        text-align: right;\n",
       "    }\n",
       "</style>\n",
       "<table border=\"1\" class=\"dataframe\">\n",
       "  <thead>\n",
       "    <tr style=\"text-align: right;\">\n",
       "      <th></th>\n",
       "      <th>id</th>\n",
       "      <th>nazev_cz</th>\n",
       "      <th>nazev_en</th>\n",
       "      <th>trida_cz</th>\n",
       "      <th>cena</th>\n",
       "      <th>k_prohlidce</th>\n",
       "    </tr>\n",
       "  </thead>\n",
       "  <tbody>\n",
       "    <tr>\n",
       "      <th>0</th>\n",
       "      <td>7</td>\n",
       "      <td>Šváb syčivý</td>\n",
       "      <td>Madagascar giant cockroach</td>\n",
       "      <td>Bezobratlí</td>\n",
       "      <td>1000</td>\n",
       "      <td>1</td>\n",
       "    </tr>\n",
       "    <tr>\n",
       "      <th>287</th>\n",
       "      <td>949</td>\n",
       "      <td>Labeo černé</td>\n",
       "      <td>Black shark</td>\n",
       "      <td>Ryby</td>\n",
       "      <td>1000</td>\n",
       "      <td>0</td>\n",
       "    </tr>\n",
       "    <tr>\n",
       "      <th>286</th>\n",
       "      <td>948</td>\n",
       "      <td>Kaložrout skvrnitý</td>\n",
       "      <td>Argusfish</td>\n",
       "      <td>Ryby</td>\n",
       "      <td>1000</td>\n",
       "      <td>1</td>\n",
       "    </tr>\n",
       "  </tbody>\n",
       "</table>\n",
       "</div>"
      ],
      "text/plain": [
       "      id            nazev_cz                     nazev_en    trida_cz  cena  \\\n",
       "0      7         Šváb syčivý  Madagascar giant cockroach   Bezobratlí  1000   \n",
       "287  949         Labeo černé                  Black shark        Ryby  1000   \n",
       "286  948  Kaložrout skvrnitý                    Argusfish        Ryby  1000   \n",
       "\n",
       "     k_prohlidce  \n",
       "0              1  \n",
       "287            0  \n",
       "286            1  "
      ]
     },
     "execution_count": 22,
     "metadata": {},
     "output_type": "execute_result"
    }
   ],
   "source": [
    "nejlevnejsi_zvirata = seznam_zvirat_zoo_praha.sort_values(by= \"cena\", ascending=True).head(3)\n",
    "nejlevnejsi_zvirata"
   ]
  }
 ],
 "metadata": {
  "kernelspec": {
   "display_name": "Python 3",
   "language": "python",
   "name": "python3"
  },
  "language_info": {
   "codemirror_mode": {
    "name": "ipython",
    "version": 3
   },
   "file_extension": ".py",
   "mimetype": "text/x-python",
   "name": "python",
   "nbconvert_exporter": "python",
   "pygments_lexer": "ipython3",
   "version": "3.11.5"
  }
 },
 "nbformat": 4,
 "nbformat_minor": 2
}
